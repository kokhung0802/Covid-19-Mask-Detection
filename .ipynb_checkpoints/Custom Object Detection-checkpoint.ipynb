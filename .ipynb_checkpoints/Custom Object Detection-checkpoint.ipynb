{
 "cells": [
  {
   "cell_type": "code",
   "execution_count": 1,
   "id": "7bb9c15a",
   "metadata": {},
   "outputs": [],
   "source": [
    "import tensorflow as tf\n",
    "import os"
   ]
  },
  {
   "cell_type": "code",
   "execution_count": 16,
   "id": "91f18a56",
   "metadata": {},
   "outputs": [],
   "source": [
    "ROOT = os.getcwd()\n",
    "TENSORFLOW_FOLDER = os.path.join(ROOT, 'TensorFlow')\n",
    "TRAINING_DEMO_FOLDER = os.path.join(TENSORFLOW_FOLDER, 'workspace', 'training_demo')\n",
    "IMAGES_FOLDER = os.path.join(TRAINING_DEMO_FOLDER, 'images')\n",
    "TRAIN_FILE = os.path.join(IMAGES_FOLDER, 'train')\n",
    "TEST_FILE = os.path.join(IMAGES_FOLDER, 'test')\n",
    "ANNOTATIONS_FOLDER = os.path.join(TRAINING_DEMO_FOLDER, 'annotations')\n",
    "LABEL_MAP_FILE = os.path.join(ANNOTATIONS_FOLDER, 'label_map.pbtxt')\n",
    "TRAIN_RECORD_FILE = os.path.join(ANNOTATIONS_FOLDER, 'train.record')\n",
    "TEST_RECORD_FILE = os.path.join(ANNOTATIONS_FOLDER, 'test.record')\n",
    "MODELS_FOLDER = os.path.join(TRAINING_DEMO_FOLDER, 'models')\n",
    "CHECKPOINT_FOLDER = os.path.join(MODELS_FOLDER, 'ssd_mobilenet_v2_fpn')\n",
    "PIPELINE_FILE = os.path.join(CHECKPOINT_FOLDER, 'pipeline.config')"
   ]
  },
  {
   "cell_type": "code",
   "execution_count": 26,
   "id": "ad3a75ea",
   "metadata": {
    "scrolled": true
   },
   "outputs": [
    {
     "name": "stdout",
     "output_type": "stream",
     "text": [
      "Successfully created the TFRecord file: C:\\Users\\kok19\\Desktop\\Krish_CV\\TensorFlow\\workspace\\training_demo\\annotations\\train.record\n",
      "Successfully created the TFRecord file: C:\\Users\\kok19\\Desktop\\Krish_CV\\TensorFlow\\workspace\\training_demo\\annotations\\test.record\n"
     ]
    }
   ],
   "source": [
    "# Create train data:\n",
    "!python generate_tfrecord.py -x {TRAIN_FILE} -l {LABEL_MAP_FILE} -o {TRAIN_RECORD_FILE}\n",
    "\n",
    "# Create test data:\n",
    "!python generate_tfrecord.py -x {TEST_FILE} -l {LABEL_MAP_FILE} -o {TEST_RECORD_FILE}\n"
   ]
  },
  {
   "cell_type": "markdown",
   "id": "c877b3b7",
   "metadata": {},
   "source": [
    "**Train the model**"
   ]
  },
  {
   "cell_type": "code",
   "execution_count": null,
   "id": "98d7f8b9",
   "metadata": {},
   "outputs": [],
   "source": [
    "python model_main_tf2.py --model_dir=models/ssd_mobilenet_v2_fpn --pipeline_config_path=models/ssd_mobilenet_v2_fpn/pipeline.config"
   ]
  },
  {
   "cell_type": "markdown",
   "id": "9aa09edb",
   "metadata": {},
   "source": [
    "**Evaluate Model**"
   ]
  },
  {
   "cell_type": "code",
   "execution_count": 21,
   "id": "117911c8",
   "metadata": {},
   "outputs": [],
   "source": [
    "command = f\"python model_main_tf2.py --model_dir={CHECKPOINT_FOLDER} --pipeline_config_path={PIPELINE_FILE} --checkpoint_dir={CHECKPOINT_FOLDER}\""
   ]
  },
  {
   "cell_type": "code",
   "execution_count": 22,
   "id": "a5f117f0",
   "metadata": {},
   "outputs": [
    {
     "name": "stdout",
     "output_type": "stream",
     "text": [
      "python model_main_tf2.py --model_dir=C:\\Users\\kok19\\Desktop\\Krish_CV\\TensorFlow\\workspace\\training_demo\\models\\ssd_mobilenet_v2_fpn --pipeline_config_path=C:\\Users\\kok19\\Desktop\\Krish_CV\\TensorFlow\\workspace\\training_demo\\models\\ssd_mobilenet_v2_fpn\\pipeline.config --checkpoint_dir=C:\\Users\\kok19\\Desktop\\Krish_CV\\TensorFlow\\workspace\\training_demo\\models\\ssd_mobilenet_v2_fpn\n"
     ]
    }
   ],
   "source": [
    "print(command)"
   ]
  },
  {
   "cell_type": "code",
   "execution_count": null,
   "id": "eb45654c",
   "metadata": {},
   "outputs": [],
   "source": [
    "# View with tensorboard\n",
    "# cd ./models/model_name/train\n",
    "# tensorboard logdir=."
   ]
  },
  {
   "cell_type": "markdown",
   "id": "77a9e610",
   "metadata": {},
   "source": [
    "**Export model**"
   ]
  },
  {
   "cell_type": "code",
   "execution_count": null,
   "id": "3fe9237b",
   "metadata": {},
   "outputs": [],
   "source": [
    "command = python exporter_main_v2.py --input_type image_tensor --pipeline_config_path models/ssd_mobilenet_v2_fpn/pipeline.config --trained_checkpoint_dir models/ssd_mobilenet_v2_fpn --output_directory exported-models/my_model"
   ]
  },
  {
   "cell_type": "markdown",
   "id": "d09bf6b2",
   "metadata": {},
   "source": [
    "**Detect from Image**"
   ]
  },
  {
   "cell_type": "code",
   "execution_count": 3,
   "id": "cd64e799",
   "metadata": {},
   "outputs": [],
   "source": [
    "import os\n",
    "os.environ['TF_CPP_MIN_LOG_LEVEL'] = '2'    # Suppress TensorFlow logging (1)\n",
    "import pathlib\n",
    "import tensorflow as tf\n",
    "import cv2\n",
    "import argparse\n",
    "import time\n",
    "from object_detection.utils import label_map_util\n",
    "from object_detection.utils import visualization_utils as viz_utils\n",
    "import numpy as np\n",
    "from PIL import Image\n",
    "import matplotlib.pyplot as plt\n",
    "import warnings\n",
    "warnings.filterwarnings('ignore')"
   ]
  },
  {
   "cell_type": "code",
   "execution_count": 14,
   "id": "54a56b33",
   "metadata": {},
   "outputs": [],
   "source": [
    "# PROVIDE PATH TO IMAGE DIRECTORY\n",
    "IMAGE_PATHS = os.path.join(TEST_FILE, 'WIN_20210504_13_37_25_Pro.jpg')\n",
    "\n",
    "# PROVIDE PATH TO MODEL DIRECTORY\n",
    "PATH_TO_MODEL_DIR = os.path.join(TRAINING_DEMO_FOLDER, 'exported-models', 'my_model')\n",
    "\n",
    "# PROVIDE PATH TO LABEL MAP\n",
    "PATH_TO_LABELS = LABEL_MAP_FILE\n",
    "\n",
    "# PROVIDE THE MINIMUM CONFIDENCE THRESHOLD\n",
    "MIN_CONF_THRESH = float(0.60)"
   ]
  },
  {
   "cell_type": "code",
   "execution_count": 25,
   "id": "e716b8e8",
   "metadata": {},
   "outputs": [
    {
     "name": "stdout",
     "output_type": "stream",
     "text": [
      "Loading model...Done! Took 224.72886037826538 seconds\n"
     ]
    }
   ],
   "source": [
    "# LOAD THE MODEL\n",
    "PATH_TO_SAVED_MODEL = os.path.join(PATH_TO_MODEL_DIR, 'saved_model')\n",
    "\n",
    "print('Loading model...', end='')\n",
    "start_time = time.time()\n",
    "\n",
    "# LOAD SAVED MODEL AND BUILD DETECTION FUNCTION\n",
    "detect_fn = tf.saved_model.load(PATH_TO_SAVED_MODEL)\n",
    "\n",
    "end_time = time.time()\n",
    "elapsed_time = end_time - start_time\n",
    "print('Done! Took {} seconds'.format(elapsed_time))"
   ]
  },
  {
   "cell_type": "code",
   "execution_count": 6,
   "id": "53a91512",
   "metadata": {},
   "outputs": [],
   "source": [
    "# LOAD LABEL MAP DATA FOR PLOTTING\n",
    "\n",
    "category_index = label_map_util.create_category_index_from_labelmap(PATH_TO_LABELS,\n",
    "                                                                    use_display_name=True)"
   ]
  },
  {
   "cell_type": "code",
   "execution_count": 15,
   "id": "5ee8e4f4",
   "metadata": {},
   "outputs": [
    {
     "name": "stdout",
     "output_type": "stream",
     "text": [
      "Running inference for C:\\Users\\kok19\\Desktop\\Krish_CV\\TensorFlow\\workspace\\training_demo\\images\\test\\WIN_20210504_13_37_25_Pro.jpg... Done\n"
     ]
    },
    {
     "data": {
      "text/plain": [
       "-1"
      ]
     },
     "execution_count": 15,
     "metadata": {},
     "output_type": "execute_result"
    }
   ],
   "source": [
    "def load_image_into_numpy_array(path):\n",
    "    \"\"\"Load an image from file into a numpy array.\n",
    "    Puts image into numpy array to feed into tensorflow graph.\n",
    "    Note that by convention we put it into a numpy array with shape\n",
    "    (height, width, channels), where channels=3 for RGB.\n",
    "    Args:\n",
    "      path: the file path to the image\n",
    "    Returns:\n",
    "      uint8 numpy array with shape (img_height, img_width, 3)\n",
    "    \"\"\"\n",
    "    return np.array(Image.open(path))\n",
    "\n",
    "\n",
    "\n",
    "\n",
    "print('Running inference for {}... '.format(IMAGE_PATHS), end='')\n",
    "\n",
    "image = cv2.imread(IMAGE_PATHS)\n",
    "image_rgb = cv2.cvtColor(image, cv2.COLOR_BGR2RGB)\n",
    "image_expanded = np.expand_dims(image_rgb, axis=0)\n",
    "\n",
    "# The input needs to be a tensor, convert it using `tf.convert_to_tensor`.\n",
    "input_tensor = tf.convert_to_tensor(image)\n",
    "# The model expects a batch of images, so add an axis with `tf.newaxis`.\n",
    "input_tensor = input_tensor[tf.newaxis, ...]\n",
    "\n",
    "# input_tensor = np.expand_dims(image_np, 0)\n",
    "detections = detect_fn(input_tensor)\n",
    "\n",
    "# All outputs are batches tensors.\n",
    "# Convert to numpy arrays, and take index [0] to remove the batch dimension.\n",
    "# We're only interested in the first num_detections.\n",
    "num_detections = int(detections.pop('num_detections'))\n",
    "detections = {key: value[0, :num_detections].numpy()\n",
    "               for key, value in detections.items()}\n",
    "detections['num_detections'] = num_detections\n",
    "\n",
    "# detection_classes should be ints.\n",
    "detections['detection_classes'] = detections['detection_classes'].astype(np.int64)\n",
    "\n",
    "image_with_detections = image.copy()\n",
    "\n",
    "# SET MIN_SCORE_THRESH BASED ON YOU MINIMUM THRESHOLD FOR DETECTIONS\n",
    "viz_utils.visualize_boxes_and_labels_on_image_array(\n",
    "      image_with_detections,\n",
    "      detections['detection_boxes'],\n",
    "      detections['detection_classes'],\n",
    "      detections['detection_scores'],\n",
    "      category_index,\n",
    "      use_normalized_coordinates=True,\n",
    "      max_boxes_to_draw=200,\n",
    "      min_score_thresh=0.9,\n",
    "      agnostic_mode=False)\n",
    "\n",
    "print('Done')\n",
    "# DISPLAYS OUTPUT IMAGE\n",
    "window_name = 'image'\n",
    "cv2.imshow(window_name, image_with_detections)\n",
    "cv2.waitKey(0)\n",
    "# CLOSES WINDOW ONCE KEY IS PRESSED"
   ]
  },
  {
   "cell_type": "code",
   "execution_count": 28,
   "id": "a0db40b5",
   "metadata": {},
   "outputs": [],
   "source": [
    "cv2.destroyAllWindows() "
   ]
  },
  {
   "cell_type": "markdown",
   "id": "cd52d129",
   "metadata": {},
   "source": [
    "**Load train model from checkpoint**"
   ]
  },
  {
   "cell_type": "code",
   "execution_count": 23,
   "id": "0d24b4b3",
   "metadata": {},
   "outputs": [],
   "source": [
    "import os\n",
    "import tensorflow as tf\n",
    "from object_detection.utils import label_map_util\n",
    "from object_detection.utils import visualization_utils as viz_utils\n",
    "from object_detection.builders import model_builder\n",
    "from object_detection.utils import config_util"
   ]
  },
  {
   "cell_type": "code",
   "execution_count": null,
   "id": "32812436",
   "metadata": {},
   "outputs": [],
   "source": [
    "# Load pipeline config and build a detection model\n",
    "configs = config_util.get_configs_from_pipeline_file(PIPELINE_FILE)\n",
    "detection_model = model_builder.build(model_config=configs['model'], is_training=False)\n",
    "\n",
    "# Restore checkpoint\n",
    "ckpt = tf.compat.v2.train.Checkpoint(model=detection_model)\n",
    "ckpt.restore(os.path.join(paths['CHECKPOINT_PATH'], 'ckpt-5')).expect_partial()\n",
    "\n",
    "@tf.function\n",
    "def detect_fn(image):\n",
    "    image, shapes = detection_model.preprocess(image)\n",
    "    prediction_dict = detection_model.predict(image, shapes)\n",
    "    detections = detection_model.postprocess(prediction_dict, shapes)\n",
    "    return detections"
   ]
  },
  {
   "cell_type": "markdown",
   "id": "379dc532",
   "metadata": {},
   "source": [
    "**Real time detection from webcam**"
   ]
  },
  {
   "cell_type": "code",
   "execution_count": 24,
   "id": "01346fba",
   "metadata": {},
   "outputs": [],
   "source": [
    "\"\"\"@tf.function\n",
    "def detect_fn(image):\n",
    "    image, shapes = detection_model.preprocess(image)\n",
    "    prediction_dict = detection_model.predict(image, shapes)\n",
    "    detections = detection_model.postprocess(prediction_dict, shapes)\n",
    "    return detections\"\"\""
   ]
  },
  {
   "cell_type": "code",
   "execution_count": 27,
   "id": "1fb54c76",
   "metadata": {},
   "outputs": [],
   "source": [
    "cap = cv2.VideoCapture(0)\n",
    "width = int(cap.get(cv2.CAP_PROP_FRAME_WIDTH))\n",
    "height = int(cap.get(cv2.CAP_PROP_FRAME_HEIGHT))\n",
    "\n",
    "while cap.isOpened(): \n",
    "    ret, frame = cap.read()\n",
    "    image_np = np.array(frame)\n",
    "    \n",
    "    input_tensor = tf.convert_to_tensor(np.expand_dims(image_np, 0), dtype=tf.uint8)\n",
    "    detections = detect_fn(input_tensor)\n",
    "    \n",
    "    num_detections = int(detections.pop('num_detections'))\n",
    "    detections = {key: value[0, :num_detections].numpy()\n",
    "                  for key, value in detections.items()}\n",
    "    detections['num_detections'] = num_detections\n",
    "\n",
    "    # detection_classes should be ints.\n",
    "    detections['detection_classes'] = detections['detection_classes'].astype(np.int64)\n",
    "\n",
    "    label_id_offset = 1\n",
    "    image_np_with_detections = image_np.copy()\n",
    "\n",
    "    viz_utils.visualize_boxes_and_labels_on_image_array(\n",
    "                image_np_with_detections,\n",
    "                detections['detection_boxes'],\n",
    "                detections['detection_classes']+label_id_offset,\n",
    "                detections['detection_scores'],\n",
    "                category_index,\n",
    "                use_normalized_coordinates=True,\n",
    "                max_boxes_to_draw=5,\n",
    "                min_score_thresh=.8,\n",
    "                agnostic_mode=False)\n",
    "\n",
    "    cv2.imshow('object detection',  cv2.resize(image_np_with_detections, (800, 600)))\n",
    "    \n",
    "    if cv2.waitKey(10) & 0xFF == ord('q'):\n",
    "        cap.release()\n",
    "        cv2.destroyAllWindows()\n",
    "        break"
   ]
  }
 ],
 "metadata": {
  "kernelspec": {
   "display_name": "Python 3",
   "language": "python",
   "name": "python3"
  },
  "language_info": {
   "codemirror_mode": {
    "name": "ipython",
    "version": 3
   },
   "file_extension": ".py",
   "mimetype": "text/x-python",
   "name": "python",
   "nbconvert_exporter": "python",
   "pygments_lexer": "ipython3",
   "version": "3.8.8"
  }
 },
 "nbformat": 4,
 "nbformat_minor": 5
}
